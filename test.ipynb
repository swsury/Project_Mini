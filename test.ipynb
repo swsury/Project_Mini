{
 "cells": [
  {
   "cell_type": "code",
   "execution_count": 10,
   "metadata": {},
   "outputs": [],
   "source": [
    "myfile = '202407_도로명주소 한글_전체분/rnaddrkor_gwangju.txt'"
   ]
  },
  {
   "cell_type": "code",
   "execution_count": 13,
   "metadata": {},
   "outputs": [
    {
     "name": "stdout",
     "output_type": "stream",
     "text": [
      "29110101300900100019400001|2911010100|광주광역시|동구|대인동||0|83|2|291103009001|구성로|0|194|1|2911052500|충장동|61473||20110729|0||||\n"
     ]
    }
   ],
   "source": [
    "with open(myfile, 'r') as file:\n",
    "    lines_list = file.readlines()  # Each line in the file is a separate item in the list\n",
    "\n",
    "# Optionally, you can remove newline characters\n",
    "lines_list = [line.strip() for line in lines_list]\n",
    "print(lines_list[1])"
   ]
  },
  {
   "cell_type": "code",
   "execution_count": 26,
   "metadata": {},
   "outputs": [
    {
     "name": "stdout",
     "output_type": "stream",
     "text": [
      "주소: 광주광역시 동구 구성로 194-1\n",
      "시도명: 광주광역시\n",
      "시군구명: 동구\n",
      "도로명: 구성로\n",
      "건물본번: 194\n",
      "건물부번: 1\n",
      "우편번호: 61473\n"
     ]
    }
   ],
   "source": [
    "시도명 = []\n",
    "시군구명 = []\n",
    "도로명 = []\n",
    "건물본번 = []\n",
    "건물부번 = []\n",
    "우편번호 = []\n",
    "주소 = []\n",
    "\n",
    "for line in lines_list:\n",
    "    columns = line.strip().split('|')\n",
    "\n",
    "    시도명str = columns[2]  # Using columns[2] directly instead of '|'.join(columns[2:3])\n",
    "    시군구명str = columns[3]\n",
    "    도로명str = columns[10]\n",
    "    건물본번str = columns[12]\n",
    "    건물부번str = columns[13]\n",
    "    우편번호str = columns[16]\n",
    "    \n",
    "    # Construct the address string\n",
    "    주소str = f\"{시도명str} {시군구명str} {도로명str} {건물본번str}-{건물부번str} ({우편번호str})\"\n",
    "    주소.append(주소str)\n",
    "\n",
    "# Print the first item for demonstration\n",
    "print(\"주소:\", 주소[1])\n"
   ]
  },
  {
   "cell_type": "code",
   "execution_count": 18,
   "metadata": {},
   "outputs": [],
   "source": [
    "import pandas as pd"
   ]
  },
  {
   "cell_type": "code",
   "execution_count": 19,
   "metadata": {},
   "outputs": [
    {
     "data": {
      "text/html": [
       "<div>\n",
       "<style scoped>\n",
       "    .dataframe tbody tr th:only-of-type {\n",
       "        vertical-align: middle;\n",
       "    }\n",
       "\n",
       "    .dataframe tbody tr th {\n",
       "        vertical-align: top;\n",
       "    }\n",
       "\n",
       "    .dataframe thead th {\n",
       "        text-align: right;\n",
       "    }\n",
       "</style>\n",
       "<table border=\"1\" class=\"dataframe\">\n",
       "  <thead>\n",
       "    <tr style=\"text-align: right;\">\n",
       "      <th></th>\n",
       "      <th>우편번호</th>\n",
       "      <th>시도명</th>\n",
       "      <th>시군구명</th>\n",
       "      <th>도로명</th>\n",
       "      <th>건물본번</th>\n",
       "      <th>건물부번</th>\n",
       "    </tr>\n",
       "  </thead>\n",
       "  <tbody>\n",
       "    <tr>\n",
       "      <th>0</th>\n",
       "      <td>61473</td>\n",
       "      <td>광주광역시</td>\n",
       "      <td>동구</td>\n",
       "      <td>구성로</td>\n",
       "      <td>194</td>\n",
       "      <td>0</td>\n",
       "    </tr>\n",
       "    <tr>\n",
       "      <th>1</th>\n",
       "      <td>61473</td>\n",
       "      <td>광주광역시</td>\n",
       "      <td>동구</td>\n",
       "      <td>구성로</td>\n",
       "      <td>194</td>\n",
       "      <td>1</td>\n",
       "    </tr>\n",
       "    <tr>\n",
       "      <th>2</th>\n",
       "      <td>61470</td>\n",
       "      <td>광주광역시</td>\n",
       "      <td>동구</td>\n",
       "      <td>구성로</td>\n",
       "      <td>195</td>\n",
       "      <td>0</td>\n",
       "    </tr>\n",
       "    <tr>\n",
       "      <th>3</th>\n",
       "      <td>61470</td>\n",
       "      <td>광주광역시</td>\n",
       "      <td>동구</td>\n",
       "      <td>구성로</td>\n",
       "      <td>195</td>\n",
       "      <td>2</td>\n",
       "    </tr>\n",
       "    <tr>\n",
       "      <th>4</th>\n",
       "      <td>61473</td>\n",
       "      <td>광주광역시</td>\n",
       "      <td>동구</td>\n",
       "      <td>구성로</td>\n",
       "      <td>196</td>\n",
       "      <td>0</td>\n",
       "    </tr>\n",
       "    <tr>\n",
       "      <th>...</th>\n",
       "      <td>...</td>\n",
       "      <td>...</td>\n",
       "      <td>...</td>\n",
       "      <td>...</td>\n",
       "      <td>...</td>\n",
       "      <td>...</td>\n",
       "    </tr>\n",
       "    <tr>\n",
       "      <th>120366</th>\n",
       "      <td>62465</td>\n",
       "      <td>광주광역시</td>\n",
       "      <td>광산구</td>\n",
       "      <td>진곡산단중앙로</td>\n",
       "      <td>114</td>\n",
       "      <td>0</td>\n",
       "    </tr>\n",
       "    <tr>\n",
       "      <th>120367</th>\n",
       "      <td>62465</td>\n",
       "      <td>광주광역시</td>\n",
       "      <td>광산구</td>\n",
       "      <td>진곡산단중앙로</td>\n",
       "      <td>115</td>\n",
       "      <td>0</td>\n",
       "    </tr>\n",
       "    <tr>\n",
       "      <th>120368</th>\n",
       "      <td>62465</td>\n",
       "      <td>광주광역시</td>\n",
       "      <td>광산구</td>\n",
       "      <td>진곡산단중앙로</td>\n",
       "      <td>121</td>\n",
       "      <td>0</td>\n",
       "    </tr>\n",
       "    <tr>\n",
       "      <th>120369</th>\n",
       "      <td>62465</td>\n",
       "      <td>광주광역시</td>\n",
       "      <td>광산구</td>\n",
       "      <td>진곡산단중앙로</td>\n",
       "      <td>122</td>\n",
       "      <td>0</td>\n",
       "    </tr>\n",
       "    <tr>\n",
       "      <th>120370</th>\n",
       "      <td>62465</td>\n",
       "      <td>광주광역시</td>\n",
       "      <td>광산구</td>\n",
       "      <td>진곡산단중앙로</td>\n",
       "      <td>125</td>\n",
       "      <td>0</td>\n",
       "    </tr>\n",
       "  </tbody>\n",
       "</table>\n",
       "<p>120371 rows × 6 columns</p>\n",
       "</div>"
      ],
      "text/plain": [
       "         우편번호    시도명 시군구명      도로명 건물본번 건물부번\n",
       "0       61473  광주광역시   동구      구성로  194    0\n",
       "1       61473  광주광역시   동구      구성로  194    1\n",
       "2       61470  광주광역시   동구      구성로  195    0\n",
       "3       61470  광주광역시   동구      구성로  195    2\n",
       "4       61473  광주광역시   동구      구성로  196    0\n",
       "...       ...    ...  ...      ...  ...  ...\n",
       "120366  62465  광주광역시  광산구  진곡산단중앙로  114    0\n",
       "120367  62465  광주광역시  광산구  진곡산단중앙로  115    0\n",
       "120368  62465  광주광역시  광산구  진곡산단중앙로  121    0\n",
       "120369  62465  광주광역시  광산구  진곡산단중앙로  122    0\n",
       "120370  62465  광주광역시  광산구  진곡산단중앙로  125    0\n",
       "\n",
       "[120371 rows x 6 columns]"
      ]
     },
     "execution_count": 19,
     "metadata": {},
     "output_type": "execute_result"
    }
   ],
   "source": [
    "data = {\n",
    "    \"우편번호\" : 우편번호,\n",
    "    \"시도명\" : 시도명,\n",
    "    \"시군구명\" : 시군구명,\n",
    "    \"도로명\" : 도로명,\n",
    "    \"건물본번\" : 건물본번,\n",
    "    \"건물부번\" : 건물부번\n",
    "}\n",
    "\n",
    "address = pd.DataFrame(data)\n",
    "address"
   ]
  },
  {
   "cell_type": "code",
   "execution_count": 20,
   "metadata": {},
   "outputs": [],
   "source": [
    "주소 = 시도명 + 시군구명"
   ]
  },
  {
   "cell_type": "code",
   "execution_count": 22,
   "metadata": {},
   "outputs": [
    {
     "name": "stdout",
     "output_type": "stream",
     "text": [
      "광주광역시\n"
     ]
    }
   ],
   "source": [
    "print(주소[2])"
   ]
  },
  {
   "cell_type": "code",
   "execution_count": null,
   "metadata": {},
   "outputs": [],
   "source": []
  }
 ],
 "metadata": {
  "kernelspec": {
   "display_name": "Python 3",
   "language": "python",
   "name": "python3"
  },
  "language_info": {
   "codemirror_mode": {
    "name": "ipython",
    "version": 3
   },
   "file_extension": ".py",
   "mimetype": "text/x-python",
   "name": "python",
   "nbconvert_exporter": "python",
   "pygments_lexer": "ipython3",
   "version": "3.12.4"
  }
 },
 "nbformat": 4,
 "nbformat_minor": 2
}

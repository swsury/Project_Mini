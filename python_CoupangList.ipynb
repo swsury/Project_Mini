{
 "cells": [
  {
   "cell_type": "code",
   "execution_count": null,
   "metadata": {},
   "outputs": [],
   "source": [
    "from selenium import webdriver\n",
    "from fake_useragent import UserAgent"
   ]
  },
  {
   "cell_type": "code",
   "execution_count": null,
   "metadata": {},
   "outputs": [],
   "source": [
    "import time\n",
    "\n",
    "options = webdriver.ChromeOptions()\n",
    "options.add_argument(\"--disable-blink-features=AutomationControlled\")\n",
    "user_ag = UserAgent().random\n",
    "options.add_argument('user-agent=%s'%user_ag)\n",
    "options.add_experimental_option(\"excludeSwitches\", [\"enable-automation\"])\n",
    "options.add_experimental_option(\"useAutomationExtension\", False)\n",
    "options.add_experimental_option(\"prefs\", {\"prfile.managed_default_content_setting.images\": 2})\n",
    "driver = webdriver.Chrome('chromedriver.exe', options=options)\n",
    "\n",
    "# 크롤링 방지 설정을 undefined로 변경\n",
    "driver.execute_cdp_cmd(\"Page.addScriptToEvaluateOnNewDocument\", {\n",
    "    \"source\": \"\"\"\n",
    "            Object.defineProperty(navigator, 'webdriver', {\n",
    "                get: () => undefined\n",
    "            })\n",
    "            \"\"\"\n",
    "})\n",
    "\n",
    "url = 'https://login.coupang.com/login/login.pang'\n",
    "driver.get(url=url)\n",
    "time.sleep(2)\n",
    "\n",
    "id_input = driver.find_element_by_xpath('//*[@id=\"login-email-input\"]')\n",
    "id_input.send_keys('아이디')\n",
    "\n",
    "pw_input = driver.find_element_by_xpath('//*[@id=\"login-password-input\"]')\n",
    "pw_input.send_keys('패스워드')\n",
    "\n",
    "driver.find_element_by_xpath('/html/body/div[1]/div[1]/div[2]/div[1]/form/div[5]/button').click()"
   ]
  },
  {
   "cell_type": "code",
   "execution_count": null,
   "metadata": {},
   "outputs": [],
   "source": [
    "driver.find_element_by_xpath('//*[@id=\"header\"]/section/div[1]/ul/li[2]/a').click()"
   ]
  },
  {
   "cell_type": "code",
   "execution_count": null,
   "metadata": {},
   "outputs": [],
   "source": [
    "from selenium.webdriver.common.by import By\n",
    "from selenium.webdriver.common.keys import Keys\n",
    "import time\n",
    "\n",
    "body = driver.find_element(By.TAG_NAME, 'body')\n",
    "for _ in range(30):\n",
    "    body.send_keys(Keys.PAGE_DOWN)\n",
    "    time.sleep(1)"
   ]
  },
  {
   "cell_type": "code",
   "execution_count": null,
   "metadata": {},
   "outputs": [],
   "source": [
    "soup = BeautifulSoup(driver.page_source)\n",
    "lis = soup.select('.cart-deal-item')\n",
    "len(lis)\n",
    "li = lis[0]"
   ]
  },
  {
   "cell_type": "code",
   "execution_count": null,
   "metadata": {},
   "outputs": [],
   "source": [
    "name = li.select_one('.product-name-part').get_text().strip()\n",
    "price = li.select_one('.unit-total-price').get_text().strip()"
   ]
  },
  {
   "cell_type": "code",
   "execution_count": null,
   "metadata": {},
   "outputs": [],
   "source": [
    "data = []\n",
    "for li in lis:\n",
    "    name = li.select_one('.product-name-part').get_text().strip()\n",
    "    price = li.select_one('.unit-total-price').get_text().strip()\n",
    "    data.append({'물건명':name, '가격':price})"
   ]
  },
  {
   "cell_type": "code",
   "execution_count": null,
   "metadata": {},
   "outputs": [],
   "source": [
    "df = pd.DataFrame(data)\n",
    "df.head()"
   ]
  },
  {
   "cell_type": "code",
   "execution_count": null,
   "metadata": {},
   "outputs": [],
   "source": [
    "df.to_csv('data/쿠팡.csv', encoding='utf-8-sig', index=False)"
   ]
  }
 ],
 "metadata": {
  "kernelspec": {
   "display_name": "base",
   "language": "python",
   "name": "python3"
  },
  "language_info": {
   "name": "python",
   "version": "3.11.5"
  }
 },
 "nbformat": 4,
 "nbformat_minor": 2
}

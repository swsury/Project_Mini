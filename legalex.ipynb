{
 "cells": [
  {
   "cell_type": "markdown",
   "metadata": {},
   "source": [
    "> 법률 상담 사례 크롤링"
   ]
  },
  {
   "cell_type": "code",
   "execution_count": null,
   "metadata": {},
   "outputs": [],
   "source": [
    "#법률 상담 사례 case 추출\n",
    "\n",
    "import re\n",
    "import time\n",
    "import pandas as pd\n",
    "\n",
    "from selenium import webdriver\n",
    "from selenium.webdriver.chrome.service import Service as ChromeService\n",
    "from webdriver_manager.chrome import ChromeDriverManager\n",
    "from selenium.webdriver.common.by import By\n",
    "from bs4 import BeautifulSoup\n",
    "\n",
    "# 크롬 드라이버를 따로 다운받지 않아도 사용 가능하게 해주는 코드 :  cmd -> pip install 해주어야 함\n",
    "driver = webdriver.Chrome(service=ChromeService(ChromeDriverManager().install()))\n",
    "\n",
    "# 크롤링할 url 선택\n",
    "url = 'https://www.klac.or.kr/legalinfo/counsel.do'\n",
    "driver.get(url)\n",
    "\n",
    "# case 보관용 list\n",
    "data = []\n",
    "\n",
    "# >> 버튼 몇 번 클릭할 건지 계산\n",
    "total_page = 1004\n",
    "next_num = (total_page / 10) + 2\n",
    "\n",
    "# for >> 버튼 클릭 반복\n",
    "for page in range(1, next_num):\n",
    "\n",
    "    # for > 버튼 클릭 반복\n",
    "    for page in range(1, 11):\n",
    "\n",
    "        # 데이터 있는 영역 크롤링\n",
    "        soup = BeautifulSoup(driver.page_source, 'html.parser')\n",
    "        trs = soup.select('.table_TP03.M_table > tbody > tr')\n",
    "\n",
    "        # 크롤링한 html 요소에서 원하는 데이터만 추출하는 코드\n",
    "        for tr in trs:\n",
    "            # case가 javascript 이 부분에 있으므로 이 부분의 데이터를 찾아 추출\n",
    "            links = tr.find_all(href=lambda href: href and href.startswith(\"javascript:fn_inquire_detail('\"))\n",
    "            # links 데이터를 case number만 남도록 가공\n",
    "            if links:\n",
    "                match = re.search(r\"case-\\d+-\\d+\", links[0].get('href'))\n",
    "                if match:\n",
    "                    data.append({'상세주소': match.group(0)})\n",
    "        \n",
    "        # > 버튼 클릭\n",
    "        page_button = driver.find_element(By.CSS_SELECTOR, f'#content > div.contents_doc > div > form > div.paging_wrap > a:nth-child({2 + page})')\n",
    "        page_button.click()\n",
    "        time.sleep(0.5)\n",
    "\n",
    "    # >> 버튼 클릭\n",
    "    next_button = driver.find_element(By.CSS_SELECTOR, '#content > div.contents_doc > div > form > div.paging_wrap > button.btn_page_next')\n",
    "    next_button.click()\n",
    "    time.sleep(0.5)\n",
    "\n",
    "driver.close()\n",
    "\n",
    "# list를 data로 변환하여 csv로 저장\n",
    "# csv로 저장하지 않고 사용해도 되지만, 작업 중 중단 오류 발생 시 대처를 위한 방편\n",
    "df = pd.DataFrame(data)\n",
    "df.to_csv('D:/2. Git/TeamP/99. Sury/detail_link.csv')"
   ]
  },
  {
   "cell_type": "code",
   "execution_count": 1,
   "metadata": {},
   "outputs": [
    {
     "data": {
      "application/vnd.jupyter.widget-view+json": {
       "model_id": "580dd27ddbbf4b8393925ea09eebe20b",
       "version_major": 2,
       "version_minor": 0
      },
      "text/plain": [
       "  0%|          | 0/10047 [00:00<?, ?it/s]"
      ]
     },
     "metadata": {},
     "output_type": "display_data"
    },
    {
     "ename": "OSError",
     "evalue": "Cannot save file into a non-existent directory: 'D:\\2. Git\\TeamP\\99. Sury'",
     "output_type": "error",
     "traceback": [
      "\u001b[1;31m---------------------------------------------------------------------------\u001b[0m",
      "\u001b[1;31mOSError\u001b[0m                                   Traceback (most recent call last)",
      "\u001b[1;32md:\\03. Git\\TeamP\\99. Sury\\legalex.ipynb Cell 3\u001b[0m line \u001b[0;36m4\n\u001b[0;32m     <a href='vscode-notebook-cell:/d%3A/03.%20Git/TeamP/99.%20Sury/legalex.ipynb#W2sZmlsZQ%3D%3D?line=46'>47</a>\u001b[0m \u001b[39m# list를 data로 변환하여 csv로 저장\u001b[39;00m\n\u001b[0;32m     <a href='vscode-notebook-cell:/d%3A/03.%20Git/TeamP/99.%20Sury/legalex.ipynb#W2sZmlsZQ%3D%3D?line=47'>48</a>\u001b[0m df \u001b[39m=\u001b[39m pd\u001b[39m.\u001b[39mDataFrame(data_list)\n\u001b[1;32m---> <a href='vscode-notebook-cell:/d%3A/03.%20Git/TeamP/99.%20Sury/legalex.ipynb#W2sZmlsZQ%3D%3D?line=48'>49</a>\u001b[0m df\u001b[39m.\u001b[39mto_csv(\u001b[39m'\u001b[39m\u001b[39mD:/2. Git/TeamP/99. Sury/detail_content.csv\u001b[39m\u001b[39m'\u001b[39m)\n",
      "File \u001b[1;32md:\\02. Program\\anaconda3\\Lib\\site-packages\\pandas\\core\\generic.py:3772\u001b[0m, in \u001b[0;36mNDFrame.to_csv\u001b[1;34m(self, path_or_buf, sep, na_rep, float_format, columns, header, index, index_label, mode, encoding, compression, quoting, quotechar, lineterminator, chunksize, date_format, doublequote, escapechar, decimal, errors, storage_options)\u001b[0m\n\u001b[0;32m   3761\u001b[0m df \u001b[39m=\u001b[39m \u001b[39mself\u001b[39m \u001b[39mif\u001b[39;00m \u001b[39misinstance\u001b[39m(\u001b[39mself\u001b[39m, ABCDataFrame) \u001b[39melse\u001b[39;00m \u001b[39mself\u001b[39m\u001b[39m.\u001b[39mto_frame()\n\u001b[0;32m   3763\u001b[0m formatter \u001b[39m=\u001b[39m DataFrameFormatter(\n\u001b[0;32m   3764\u001b[0m     frame\u001b[39m=\u001b[39mdf,\n\u001b[0;32m   3765\u001b[0m     header\u001b[39m=\u001b[39mheader,\n\u001b[1;32m   (...)\u001b[0m\n\u001b[0;32m   3769\u001b[0m     decimal\u001b[39m=\u001b[39mdecimal,\n\u001b[0;32m   3770\u001b[0m )\n\u001b[1;32m-> 3772\u001b[0m \u001b[39mreturn\u001b[39;00m DataFrameRenderer(formatter)\u001b[39m.\u001b[39mto_csv(\n\u001b[0;32m   3773\u001b[0m     path_or_buf,\n\u001b[0;32m   3774\u001b[0m     lineterminator\u001b[39m=\u001b[39mlineterminator,\n\u001b[0;32m   3775\u001b[0m     sep\u001b[39m=\u001b[39msep,\n\u001b[0;32m   3776\u001b[0m     encoding\u001b[39m=\u001b[39mencoding,\n\u001b[0;32m   3777\u001b[0m     errors\u001b[39m=\u001b[39merrors,\n\u001b[0;32m   3778\u001b[0m     compression\u001b[39m=\u001b[39mcompression,\n\u001b[0;32m   3779\u001b[0m     quoting\u001b[39m=\u001b[39mquoting,\n\u001b[0;32m   3780\u001b[0m     columns\u001b[39m=\u001b[39mcolumns,\n\u001b[0;32m   3781\u001b[0m     index_label\u001b[39m=\u001b[39mindex_label,\n\u001b[0;32m   3782\u001b[0m     mode\u001b[39m=\u001b[39mmode,\n\u001b[0;32m   3783\u001b[0m     chunksize\u001b[39m=\u001b[39mchunksize,\n\u001b[0;32m   3784\u001b[0m     quotechar\u001b[39m=\u001b[39mquotechar,\n\u001b[0;32m   3785\u001b[0m     date_format\u001b[39m=\u001b[39mdate_format,\n\u001b[0;32m   3786\u001b[0m     doublequote\u001b[39m=\u001b[39mdoublequote,\n\u001b[0;32m   3787\u001b[0m     escapechar\u001b[39m=\u001b[39mescapechar,\n\u001b[0;32m   3788\u001b[0m     storage_options\u001b[39m=\u001b[39mstorage_options,\n\u001b[0;32m   3789\u001b[0m )\n",
      "File \u001b[1;32md:\\02. Program\\anaconda3\\Lib\\site-packages\\pandas\\io\\formats\\format.py:1186\u001b[0m, in \u001b[0;36mDataFrameRenderer.to_csv\u001b[1;34m(self, path_or_buf, encoding, sep, columns, index_label, mode, compression, quoting, quotechar, lineterminator, chunksize, date_format, doublequote, escapechar, errors, storage_options)\u001b[0m\n\u001b[0;32m   1165\u001b[0m     created_buffer \u001b[39m=\u001b[39m \u001b[39mFalse\u001b[39;00m\n\u001b[0;32m   1167\u001b[0m csv_formatter \u001b[39m=\u001b[39m CSVFormatter(\n\u001b[0;32m   1168\u001b[0m     path_or_buf\u001b[39m=\u001b[39mpath_or_buf,\n\u001b[0;32m   1169\u001b[0m     lineterminator\u001b[39m=\u001b[39mlineterminator,\n\u001b[1;32m   (...)\u001b[0m\n\u001b[0;32m   1184\u001b[0m     formatter\u001b[39m=\u001b[39m\u001b[39mself\u001b[39m\u001b[39m.\u001b[39mfmt,\n\u001b[0;32m   1185\u001b[0m )\n\u001b[1;32m-> 1186\u001b[0m csv_formatter\u001b[39m.\u001b[39msave()\n\u001b[0;32m   1188\u001b[0m \u001b[39mif\u001b[39;00m created_buffer:\n\u001b[0;32m   1189\u001b[0m     \u001b[39massert\u001b[39;00m \u001b[39misinstance\u001b[39m(path_or_buf, StringIO)\n",
      "File \u001b[1;32md:\\02. Program\\anaconda3\\Lib\\site-packages\\pandas\\io\\formats\\csvs.py:240\u001b[0m, in \u001b[0;36mCSVFormatter.save\u001b[1;34m(self)\u001b[0m\n\u001b[0;32m    236\u001b[0m \u001b[39m\u001b[39m\u001b[39m\"\"\"\u001b[39;00m\n\u001b[0;32m    237\u001b[0m \u001b[39mCreate the writer & save.\u001b[39;00m\n\u001b[0;32m    238\u001b[0m \u001b[39m\"\"\"\u001b[39;00m\n\u001b[0;32m    239\u001b[0m \u001b[39m# apply compression and byte/text conversion\u001b[39;00m\n\u001b[1;32m--> 240\u001b[0m \u001b[39mwith\u001b[39;00m get_handle(\n\u001b[0;32m    241\u001b[0m     \u001b[39mself\u001b[39m\u001b[39m.\u001b[39mfilepath_or_buffer,\n\u001b[0;32m    242\u001b[0m     \u001b[39mself\u001b[39m\u001b[39m.\u001b[39mmode,\n\u001b[0;32m    243\u001b[0m     encoding\u001b[39m=\u001b[39m\u001b[39mself\u001b[39m\u001b[39m.\u001b[39mencoding,\n\u001b[0;32m    244\u001b[0m     errors\u001b[39m=\u001b[39m\u001b[39mself\u001b[39m\u001b[39m.\u001b[39merrors,\n\u001b[0;32m    245\u001b[0m     compression\u001b[39m=\u001b[39m\u001b[39mself\u001b[39m\u001b[39m.\u001b[39mcompression,\n\u001b[0;32m    246\u001b[0m     storage_options\u001b[39m=\u001b[39m\u001b[39mself\u001b[39m\u001b[39m.\u001b[39mstorage_options,\n\u001b[0;32m    247\u001b[0m ) \u001b[39mas\u001b[39;00m handles:\n\u001b[0;32m    248\u001b[0m     \u001b[39m# Note: self.encoding is irrelevant here\u001b[39;00m\n\u001b[0;32m    249\u001b[0m     \u001b[39mself\u001b[39m\u001b[39m.\u001b[39mwriter \u001b[39m=\u001b[39m csvlib\u001b[39m.\u001b[39mwriter(\n\u001b[0;32m    250\u001b[0m         handles\u001b[39m.\u001b[39mhandle,\n\u001b[0;32m    251\u001b[0m         lineterminator\u001b[39m=\u001b[39m\u001b[39mself\u001b[39m\u001b[39m.\u001b[39mlineterminator,\n\u001b[1;32m   (...)\u001b[0m\n\u001b[0;32m    256\u001b[0m         quotechar\u001b[39m=\u001b[39m\u001b[39mself\u001b[39m\u001b[39m.\u001b[39mquotechar,\n\u001b[0;32m    257\u001b[0m     )\n\u001b[0;32m    259\u001b[0m     \u001b[39mself\u001b[39m\u001b[39m.\u001b[39m_save()\n",
      "File \u001b[1;32md:\\02. Program\\anaconda3\\Lib\\site-packages\\pandas\\io\\common.py:737\u001b[0m, in \u001b[0;36mget_handle\u001b[1;34m(path_or_buf, mode, encoding, compression, memory_map, is_text, errors, storage_options)\u001b[0m\n\u001b[0;32m    735\u001b[0m \u001b[39m# Only for write methods\u001b[39;00m\n\u001b[0;32m    736\u001b[0m \u001b[39mif\u001b[39;00m \u001b[39m\"\u001b[39m\u001b[39mr\u001b[39m\u001b[39m\"\u001b[39m \u001b[39mnot\u001b[39;00m \u001b[39min\u001b[39;00m mode \u001b[39mand\u001b[39;00m is_path:\n\u001b[1;32m--> 737\u001b[0m     check_parent_directory(\u001b[39mstr\u001b[39m(handle))\n\u001b[0;32m    739\u001b[0m \u001b[39mif\u001b[39;00m compression:\n\u001b[0;32m    740\u001b[0m     \u001b[39mif\u001b[39;00m compression \u001b[39m!=\u001b[39m \u001b[39m\"\u001b[39m\u001b[39mzstd\u001b[39m\u001b[39m\"\u001b[39m:\n\u001b[0;32m    741\u001b[0m         \u001b[39m# compression libraries do not like an explicit text-mode\u001b[39;00m\n",
      "File \u001b[1;32md:\\02. Program\\anaconda3\\Lib\\site-packages\\pandas\\io\\common.py:600\u001b[0m, in \u001b[0;36mcheck_parent_directory\u001b[1;34m(path)\u001b[0m\n\u001b[0;32m    598\u001b[0m parent \u001b[39m=\u001b[39m Path(path)\u001b[39m.\u001b[39mparent\n\u001b[0;32m    599\u001b[0m \u001b[39mif\u001b[39;00m \u001b[39mnot\u001b[39;00m parent\u001b[39m.\u001b[39mis_dir():\n\u001b[1;32m--> 600\u001b[0m     \u001b[39mraise\u001b[39;00m \u001b[39mOSError\u001b[39;00m(\u001b[39mrf\u001b[39m\u001b[39m\"\u001b[39m\u001b[39mCannot save file into a non-existent directory: \u001b[39m\u001b[39m'\u001b[39m\u001b[39m{\u001b[39;00mparent\u001b[39m}\u001b[39;00m\u001b[39m'\u001b[39m\u001b[39m\"\u001b[39m)\n",
      "\u001b[1;31mOSError\u001b[0m: Cannot save file into a non-existent directory: 'D:\\2. Git\\TeamP\\99. Sury'"
     ]
    }
   ],
   "source": [
    "# 법률 상담 사례 content 추출\n",
    "\n",
    "import requests\n",
    "from bs4 import BeautifulSoup\n",
    "from tqdm import trange, notebook # 작업 진행 상황을 보기 위한 모듈, 없어도 무방\n",
    "import pandas as pd\n",
    "\n",
    "# 저장해둔 case 불러와 list로 저장\n",
    "df = pd.read_csv('detail_link.csv')\n",
    "addr = list(df['상세주소'])\n",
    "\n",
    "# content 보관용 list \n",
    "data_list = []\n",
    "\n",
    "# 크롤링 시 selenium 사용하면 시간이 오래 걸린다는 단점이 있으므로 bs4로 해결\n",
    "# 작업 진행 상황이 필요 없을 경우 =  for case in addr: \n",
    "for case in notebook.tqdm(addr):\n",
    "\t# 개별 상세 주소 {case} 부분에 addr의 요소 삽입\n",
    "\turl = f'https://www.klac.or.kr/legalinfo/counselView.do?&folderId=000&caseId={case}&listNm=%EC%A0%84%EC%B2%B4&searchCnd=0&searchWrd=&scdFolderId='\n",
    "\n",
    "\t# 개별 상세 주소에 응답을 보내서 html 결과 값 받아오는 코드\n",
    "\tresponse = requests.get(url)\n",
    "\t\n",
    "\t# requests.get(url) 코드가 html을 받아오는 걸 성공 했을 경우\n",
    "\tif response.status_code == 200:\n",
    "\t\tsoup = BeautifulSoup(response.text, 'html.parser')\n",
    "\t\t# 원하는 데이터 부분만 선택하는 코드\n",
    "\t\ta_element = soup.select_one('#print_page > div:nth-child(1) > dl > dd') \n",
    "\t\tb_element = soup.select_one('#print_page > div:nth-child(2) > dl > dd')\n",
    "\t\tc_element = soup.select_one('#print_page > div:nth-child(3) > dl > dd')\n",
    "\t\td_element = soup.select_one('#print_page > div:nth-child(4) > dl > dd')\n",
    "\n",
    "\t\t# a, b, c, d 부분의 데이터가 모두 있을 경우 data_list에 삽입\n",
    "\t\tif a_element and b_element and c_element and d_element:\n",
    "\t\t\ta = a_element.get_text().strip()\n",
    "\t\t\tb = b_element.get_text().strip()\n",
    "\t\t\tc = c_element.get_text().strip()\n",
    "\t\t\td = d_element.get_text().strip()\n",
    "\t\t\tdata_list.append({'구분': a, '제목': b, '질문': c, '답변': d})\n",
    "\n",
    "\t\t# 없을 경우 어느 부분이 없었는지 확인할 수 있게 case 와 함께 에러 문구 프린트\n",
    "\t\telse:\n",
    "\t\t\tprint(f\"Data not found for case : {case}\")\n",
    "\telse:\n",
    "\t\tprint(f\"Failed to fetch data for case: {case}\")\n",
    "\n",
    "# list를 data로 변환하여 csv로 저장\n",
    "df = pd.DataFrame(data_list)\n",
    "df.to_csv('D:/2. Git/TeamP/99. Sury/detail_content.csv')"
   ]
  },
  {
   "cell_type": "code",
   "execution_count": 2,
   "metadata": {},
   "outputs": [],
   "source": [
    "df = pd.DataFrame(data_list)\n",
    "df.to_csv('detail_content.csv')"
   ]
  },
  {
   "cell_type": "code",
   "execution_count": null,
   "metadata": {},
   "outputs": [],
   "source": []
  }
 ],
 "metadata": {
  "kernelspec": {
   "display_name": "base",
   "language": "python",
   "name": "python3"
  },
  "language_info": {
   "codemirror_mode": {
    "name": "ipython",
    "version": 3
   },
   "file_extension": ".py",
   "mimetype": "text/x-python",
   "name": "python",
   "nbconvert_exporter": "python",
   "pygments_lexer": "ipython3",
   "version": "3.11.5"
  }
 },
 "nbformat": 4,
 "nbformat_minor": 2
}
